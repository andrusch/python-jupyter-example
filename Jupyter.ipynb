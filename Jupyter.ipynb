{
    "metadata": {
        "kernelspec": {
            "name": "python3",
            "display_name": "Python 3"
        },
        "language_info": {
            "name": "python",
            "version": "3.8.3",
            "mimetype": "text/x-python",
            "codemirror_mode": {
                "name": "ipython",
                "version": 3
            },
            "pygments_lexer": "ipython3",
            "nbconvert_exporter": "python",
            "file_extension": ".py"
        }
    },
    "nbformat_minor": 2,
    "nbformat": 4,
    "cells": [
        {
            "cell_type": "code",
            "source": [
                "pip install pandas vega_datasets vega numpy pdvega xlrd\n",
                ""
            ],
            "metadata": {
                "azdata_cell_guid": "e854dbaf-9b44-4412-aa9a-a98647fdeb6b",
                "tags": []
            },
            "outputs": [],
            "execution_count": 22
        },
        {
            "cell_type": "markdown",
            "source": [
                "# First We Import The Data File\n",
                "\n",
                "We open the file from the data folder where this Jupyter notebook resides."
            ],
            "metadata": {
                "azdata_cell_guid": "57cec3a9-8779-4ada-94cf-46ac550fc3a6"
            }
        },
        {
            "cell_type": "code",
            "source": [
                "import pandas as pd\n",
                "import numpy as np\n",
                "import os\n",
                "import pdvega  \n",
                "import numpy as np\n",
                "import matplotlib.pyplot as plt\n",
                "file_path = os.path.join(os.getcwd(), \"data\", \"PatientEncounters.xlsx\")\n",
                "patient_encounters = pd.read_excel(file_path)\n",
                "patient_encounters\n"
            ],
            "metadata": {
                "azdata_cell_guid": "b04490cd-b2f6-4f54-b6df-5638d40a46f6",
                "tags": []
            },
            "outputs": [
                {
                    "data": {
                        "text/plain": "       id       mrn firstName  lastName     sex        dob       race  \\\n0       9  66612981    Doctor    Blight  Female 1960-11-07   Hispanic   \n1       9  66612981    Doctor    Blight  Female 1960-11-07   Hispanic   \n2       9  66612981    Doctor    Blight  Female 1960-11-07   Hispanic   \n3      87  66610742      Leia    Organa  Female 2009-09-15   Hispanic   \n4      87  66610742      Leia    Organa  Female 2009-09-15   Hispanic   \n...   ...       ...       ...       ...     ...        ...        ...   \n3374  143  77715454       Kit     Fisto    Male 2015-07-25   Hispanic   \n3375  143  77715454       Kit     Fisto    Male 2015-07-25   Hispanic   \n3376  182  77714942      Dora  Explorer  Female 2014-09-24  Caucasian   \n3377  182  77714942      Dora  Explorer  Female 2014-09-24  Caucasian   \n3378  182  77714942      Dora  Explorer  Female 2014-09-24  Caucasian   \n\n      allergies_id   id2       pan  ...  glucose  systolBloodPressure  \\\n0              9.0  2999   8610113  ...      NaN                  118   \n1              9.0  3000   8487094  ...      NaN                  118   \n2              9.0  3001   8493941  ...      NaN                  116   \n3              NaN  3002   8215272  ...      NaN                  103   \n4              NaN  3003   8215272  ...      NaN                  103   \n...            ...   ...       ...  ...      ...                  ...   \n3374          75.0  2994  15314652  ...      NaN                   81   \n3375          75.0  2995  15314652  ...      NaN                   81   \n3376          75.0  2996  15319190  ...      NaN                  104   \n3377          75.0  2997  15319188  ...      NaN                   86   \n3378          75.0  2998  15319188  ...      NaN                   86   \n\n      diastolicBloodPressure  headCircumference  oxygenSaturation  heartRate  \\\n0                         73                NaN               100         67   \n1                         73                NaN               100         67   \n2                         71                NaN               100         67   \n3                         67                NaN               100        106   \n4                         67                NaN               100        106   \n...                      ...                ...               ...        ...   \n3374                      55            38.1900               100        143   \n3375                      55            38.1900               100        143   \n3376                      67            45.8850               100         99   \n3377                      56            43.6805               100         80   \n3378                      56            43.6805               100         80   \n\n      temperature  encounterDate  encounterGroup_id  patient_id  \n0           98.60     2019-09-12                 17           9  \n1           98.60     2019-10-09                  5           9  \n2           98.60     2019-10-06                 14           9  \n3           97.16     2019-09-12                 11          87  \n4           97.16     2019-10-24                 11          87  \n...           ...            ...                ...         ...  \n3374        98.60     2019-01-25                 11         143  \n3375        98.60     2019-03-27                 11         143  \n3376        98.60     2019-05-30                 11         182  \n3377        98.60     2019-01-12                 11         182  \n3378        98.60     2019-02-26                 11         182  \n\n[3379 rows x 23 columns]",
                        "text/html": "<div>\n<style scoped>\n    .dataframe tbody tr th:only-of-type {\n        vertical-align: middle;\n    }\n\n    .dataframe tbody tr th {\n        vertical-align: top;\n    }\n\n    .dataframe thead th {\n        text-align: right;\n    }\n</style>\n<table border=\"1\" class=\"dataframe\">\n  <thead>\n    <tr style=\"text-align: right;\">\n      <th></th>\n      <th>id</th>\n      <th>mrn</th>\n      <th>firstName</th>\n      <th>lastName</th>\n      <th>sex</th>\n      <th>dob</th>\n      <th>race</th>\n      <th>allergies_id</th>\n      <th>id2</th>\n      <th>pan</th>\n      <th>...</th>\n      <th>glucose</th>\n      <th>systolBloodPressure</th>\n      <th>diastolicBloodPressure</th>\n      <th>headCircumference</th>\n      <th>oxygenSaturation</th>\n      <th>heartRate</th>\n      <th>temperature</th>\n      <th>encounterDate</th>\n      <th>encounterGroup_id</th>\n      <th>patient_id</th>\n    </tr>\n  </thead>\n  <tbody>\n    <tr>\n      <th>0</th>\n      <td>9</td>\n      <td>66612981</td>\n      <td>Doctor</td>\n      <td>Blight</td>\n      <td>Female</td>\n      <td>1960-11-07</td>\n      <td>Hispanic</td>\n      <td>9.0</td>\n      <td>2999</td>\n      <td>8610113</td>\n      <td>...</td>\n      <td>NaN</td>\n      <td>118</td>\n      <td>73</td>\n      <td>NaN</td>\n      <td>100</td>\n      <td>67</td>\n      <td>98.60</td>\n      <td>2019-09-12</td>\n      <td>17</td>\n      <td>9</td>\n    </tr>\n    <tr>\n      <th>1</th>\n      <td>9</td>\n      <td>66612981</td>\n      <td>Doctor</td>\n      <td>Blight</td>\n      <td>Female</td>\n      <td>1960-11-07</td>\n      <td>Hispanic</td>\n      <td>9.0</td>\n      <td>3000</td>\n      <td>8487094</td>\n      <td>...</td>\n      <td>NaN</td>\n      <td>118</td>\n      <td>73</td>\n      <td>NaN</td>\n      <td>100</td>\n      <td>67</td>\n      <td>98.60</td>\n      <td>2019-10-09</td>\n      <td>5</td>\n      <td>9</td>\n    </tr>\n    <tr>\n      <th>2</th>\n      <td>9</td>\n      <td>66612981</td>\n      <td>Doctor</td>\n      <td>Blight</td>\n      <td>Female</td>\n      <td>1960-11-07</td>\n      <td>Hispanic</td>\n      <td>9.0</td>\n      <td>3001</td>\n      <td>8493941</td>\n      <td>...</td>\n      <td>NaN</td>\n      <td>116</td>\n      <td>71</td>\n      <td>NaN</td>\n      <td>100</td>\n      <td>67</td>\n      <td>98.60</td>\n      <td>2019-10-06</td>\n      <td>14</td>\n      <td>9</td>\n    </tr>\n    <tr>\n      <th>3</th>\n      <td>87</td>\n      <td>66610742</td>\n      <td>Leia</td>\n      <td>Organa</td>\n      <td>Female</td>\n      <td>2009-09-15</td>\n      <td>Hispanic</td>\n      <td>NaN</td>\n      <td>3002</td>\n      <td>8215272</td>\n      <td>...</td>\n      <td>NaN</td>\n      <td>103</td>\n      <td>67</td>\n      <td>NaN</td>\n      <td>100</td>\n      <td>106</td>\n      <td>97.16</td>\n      <td>2019-09-12</td>\n      <td>11</td>\n      <td>87</td>\n    </tr>\n    <tr>\n      <th>4</th>\n      <td>87</td>\n      <td>66610742</td>\n      <td>Leia</td>\n      <td>Organa</td>\n      <td>Female</td>\n      <td>2009-09-15</td>\n      <td>Hispanic</td>\n      <td>NaN</td>\n      <td>3003</td>\n      <td>8215272</td>\n      <td>...</td>\n      <td>NaN</td>\n      <td>103</td>\n      <td>67</td>\n      <td>NaN</td>\n      <td>100</td>\n      <td>106</td>\n      <td>97.16</td>\n      <td>2019-10-24</td>\n      <td>11</td>\n      <td>87</td>\n    </tr>\n    <tr>\n      <th>...</th>\n      <td>...</td>\n      <td>...</td>\n      <td>...</td>\n      <td>...</td>\n      <td>...</td>\n      <td>...</td>\n      <td>...</td>\n      <td>...</td>\n      <td>...</td>\n      <td>...</td>\n      <td>...</td>\n      <td>...</td>\n      <td>...</td>\n      <td>...</td>\n      <td>...</td>\n      <td>...</td>\n      <td>...</td>\n      <td>...</td>\n      <td>...</td>\n      <td>...</td>\n      <td>...</td>\n    </tr>\n    <tr>\n      <th>3374</th>\n      <td>143</td>\n      <td>77715454</td>\n      <td>Kit</td>\n      <td>Fisto</td>\n      <td>Male</td>\n      <td>2015-07-25</td>\n      <td>Hispanic</td>\n      <td>75.0</td>\n      <td>2994</td>\n      <td>15314652</td>\n      <td>...</td>\n      <td>NaN</td>\n      <td>81</td>\n      <td>55</td>\n      <td>38.1900</td>\n      <td>100</td>\n      <td>143</td>\n      <td>98.60</td>\n      <td>2019-01-25</td>\n      <td>11</td>\n      <td>143</td>\n    </tr>\n    <tr>\n      <th>3375</th>\n      <td>143</td>\n      <td>77715454</td>\n      <td>Kit</td>\n      <td>Fisto</td>\n      <td>Male</td>\n      <td>2015-07-25</td>\n      <td>Hispanic</td>\n      <td>75.0</td>\n      <td>2995</td>\n      <td>15314652</td>\n      <td>...</td>\n      <td>NaN</td>\n      <td>81</td>\n      <td>55</td>\n      <td>38.1900</td>\n      <td>100</td>\n      <td>143</td>\n      <td>98.60</td>\n      <td>2019-03-27</td>\n      <td>11</td>\n      <td>143</td>\n    </tr>\n    <tr>\n      <th>3376</th>\n      <td>182</td>\n      <td>77714942</td>\n      <td>Dora</td>\n      <td>Explorer</td>\n      <td>Female</td>\n      <td>2014-09-24</td>\n      <td>Caucasian</td>\n      <td>75.0</td>\n      <td>2996</td>\n      <td>15319190</td>\n      <td>...</td>\n      <td>NaN</td>\n      <td>104</td>\n      <td>67</td>\n      <td>45.8850</td>\n      <td>100</td>\n      <td>99</td>\n      <td>98.60</td>\n      <td>2019-05-30</td>\n      <td>11</td>\n      <td>182</td>\n    </tr>\n    <tr>\n      <th>3377</th>\n      <td>182</td>\n      <td>77714942</td>\n      <td>Dora</td>\n      <td>Explorer</td>\n      <td>Female</td>\n      <td>2014-09-24</td>\n      <td>Caucasian</td>\n      <td>75.0</td>\n      <td>2997</td>\n      <td>15319188</td>\n      <td>...</td>\n      <td>NaN</td>\n      <td>86</td>\n      <td>56</td>\n      <td>43.6805</td>\n      <td>100</td>\n      <td>80</td>\n      <td>98.60</td>\n      <td>2019-01-12</td>\n      <td>11</td>\n      <td>182</td>\n    </tr>\n    <tr>\n      <th>3378</th>\n      <td>182</td>\n      <td>77714942</td>\n      <td>Dora</td>\n      <td>Explorer</td>\n      <td>Female</td>\n      <td>2014-09-24</td>\n      <td>Caucasian</td>\n      <td>75.0</td>\n      <td>2998</td>\n      <td>15319188</td>\n      <td>...</td>\n      <td>NaN</td>\n      <td>86</td>\n      <td>56</td>\n      <td>43.6805</td>\n      <td>100</td>\n      <td>80</td>\n      <td>98.60</td>\n      <td>2019-02-26</td>\n      <td>11</td>\n      <td>182</td>\n    </tr>\n  </tbody>\n</table>\n<p>3379 rows × 23 columns</p>\n</div>"
                    },
                    "metadata": {},
                    "execution_count": 3,
                    "output_type": "execute_result"
                }
            ],
            "execution_count": 3
        },
        {
            "cell_type": "markdown",
            "source": [
                "# Print Out All The Columns"
            ],
            "metadata": {
                "azdata_cell_guid": "55eecc46-6293-44b7-9d6b-53c3f417563c"
            }
        },
        {
            "cell_type": "code",
            "source": [
                "print(patient_encounters.columns.ravel())"
            ],
            "metadata": {
                "azdata_cell_guid": "7e46c63b-2d38-4b55-af96-a49baabb1dd4"
            },
            "outputs": [
                {
                    "output_type": "stream",
                    "name": "stdout",
                    "text": "['id' 'mrn' 'firstName' 'lastName' 'sex' 'dob' 'race' 'allergies_id' 'id2'\n 'pan' 'weight' 'height' 'bmi' 'glucose' 'systolBloodPressure'\n 'diastolicBloodPressure' 'headCircumference' 'oxygenSaturation'\n 'heartRate' 'temperature' 'encounterDate' 'encounterGroup_id'\n 'patient_id']\n"
                }
            ],
            "execution_count": 21
        },
        {
            "cell_type": "markdown",
            "source": [
                "# Read Another File"
            ],
            "metadata": {
                "azdata_cell_guid": "7ac8cdea-b9b1-459d-814f-f479f65cad60"
            }
        },
        {
            "cell_type": "code",
            "source": [
                "other_file_path = os.path.join(os.getcwd(), \"data\", \"OtherPatientEncounters.xlsx\")\n",
                "other_patient_encounters = pd.read_excel(other_file_path)\n",
                "other_patient_encounters\n",
                "\n",
                "#combined_data = pd.concat(patient_encounters, other_patient_encounters)\n",
                "# print(other_patient_encounters.columns.ravel())"
            ],
            "metadata": {
                "azdata_cell_guid": "ea951ef1-8237-46b9-9f5e-b1fcf9ac5ccd"
            },
            "outputs": [
                {
                    "data": {
                        "text/plain": "       id       mrn firstName  lastName     sex    dob              race  \\\n0       1  66611468     Padme   Amidala    Male  37508  African American   \n1       1  66611468     Padme   Amidala    Male  37508  African American   \n2       1  66611468     Padme   Amidala    Male  37508  African American   \n3       1  66611468     Padme   Amidala    Male  37508  African American   \n4       2  66615129    Thomas  Anderson    Male  23260          Hispanic   \n...   ...       ...       ...       ...     ...    ...               ...   \n2993  143  77715454       Kit     Fisto    Male  42210          Hispanic   \n2994  143  77715454       Kit     Fisto    Male  42210          Hispanic   \n2995  182  77714942      Dora  Explorer  Female  41906         Caucasian   \n2996  182  77714942      Dora  Explorer  Female  41906         Caucasian   \n2997  182  77714942      Dora  Explorer  Female  41906         Caucasian   \n\n      allergies_id   id2       pan  ...  glucose  systolBloodPressure  \\\n0              1.0     1   8538784  ...      NaN                  108   \n1              1.0     2   8065457  ...      NaN                  107   \n2              1.0     3   8014738  ...      NaN                  107   \n3              1.0     4   8151262  ...      NaN                  106   \n4              2.0     5   8773479  ...      NaN                  110   \n...            ...   ...       ...  ...      ...                  ...   \n2993          75.0  2994  15314652  ...      NaN                   81   \n2994          75.0  2995  15314652  ...      NaN                   81   \n2995          75.0  2996  15319190  ...      NaN                  104   \n2996          75.0  2997  15319188  ...      NaN                   86   \n2997          75.0  2998  15319188  ...      NaN                   86   \n\n      diastolicBloodPressure  headCircumference  oxygenSaturation  heartRate  \\\n0                         61                NaN               100         76   \n1                         60                NaN               100         76   \n2                         60                NaN               100         76   \n3                         59                NaN               100         76   \n4                         78                NaN               100         49   \n...                      ...                ...               ...        ...   \n2993                      55            38.1900               100        143   \n2994                      55            38.1900               100        143   \n2995                      67            45.8850               100         99   \n2996                      56            43.6805               100         80   \n2997                      56            43.6805               100         80   \n\n      temperature  encounterDate  encounterGroup_id  patient_id  \n0            97.7          41858                 20           1  \n1            97.7          41874                 11           1  \n2            97.7          41886                 18           1  \n3            97.7          41921                 20           1  \n4            98.6          41860                 14           2  \n...           ...            ...                ...         ...  \n2993         98.6          43490                 11         143  \n2994         98.6          43551                 11         143  \n2995         98.6          43615                 11         182  \n2996         98.6          43477                 11         182  \n2997         98.6          43522                 11         182  \n\n[2998 rows x 23 columns]",
                        "text/html": "<div>\n<style scoped>\n    .dataframe tbody tr th:only-of-type {\n        vertical-align: middle;\n    }\n\n    .dataframe tbody tr th {\n        vertical-align: top;\n    }\n\n    .dataframe thead th {\n        text-align: right;\n    }\n</style>\n<table border=\"1\" class=\"dataframe\">\n  <thead>\n    <tr style=\"text-align: right;\">\n      <th></th>\n      <th>id</th>\n      <th>mrn</th>\n      <th>firstName</th>\n      <th>lastName</th>\n      <th>sex</th>\n      <th>dob</th>\n      <th>race</th>\n      <th>allergies_id</th>\n      <th>id2</th>\n      <th>pan</th>\n      <th>...</th>\n      <th>glucose</th>\n      <th>systolBloodPressure</th>\n      <th>diastolicBloodPressure</th>\n      <th>headCircumference</th>\n      <th>oxygenSaturation</th>\n      <th>heartRate</th>\n      <th>temperature</th>\n      <th>encounterDate</th>\n      <th>encounterGroup_id</th>\n      <th>patient_id</th>\n    </tr>\n  </thead>\n  <tbody>\n    <tr>\n      <th>0</th>\n      <td>1</td>\n      <td>66611468</td>\n      <td>Padme</td>\n      <td>Amidala</td>\n      <td>Male</td>\n      <td>37508</td>\n      <td>African American</td>\n      <td>1.0</td>\n      <td>1</td>\n      <td>8538784</td>\n      <td>...</td>\n      <td>NaN</td>\n      <td>108</td>\n      <td>61</td>\n      <td>NaN</td>\n      <td>100</td>\n      <td>76</td>\n      <td>97.7</td>\n      <td>41858</td>\n      <td>20</td>\n      <td>1</td>\n    </tr>\n    <tr>\n      <th>1</th>\n      <td>1</td>\n      <td>66611468</td>\n      <td>Padme</td>\n      <td>Amidala</td>\n      <td>Male</td>\n      <td>37508</td>\n      <td>African American</td>\n      <td>1.0</td>\n      <td>2</td>\n      <td>8065457</td>\n      <td>...</td>\n      <td>NaN</td>\n      <td>107</td>\n      <td>60</td>\n      <td>NaN</td>\n      <td>100</td>\n      <td>76</td>\n      <td>97.7</td>\n      <td>41874</td>\n      <td>11</td>\n      <td>1</td>\n    </tr>\n    <tr>\n      <th>2</th>\n      <td>1</td>\n      <td>66611468</td>\n      <td>Padme</td>\n      <td>Amidala</td>\n      <td>Male</td>\n      <td>37508</td>\n      <td>African American</td>\n      <td>1.0</td>\n      <td>3</td>\n      <td>8014738</td>\n      <td>...</td>\n      <td>NaN</td>\n      <td>107</td>\n      <td>60</td>\n      <td>NaN</td>\n      <td>100</td>\n      <td>76</td>\n      <td>97.7</td>\n      <td>41886</td>\n      <td>18</td>\n      <td>1</td>\n    </tr>\n    <tr>\n      <th>3</th>\n      <td>1</td>\n      <td>66611468</td>\n      <td>Padme</td>\n      <td>Amidala</td>\n      <td>Male</td>\n      <td>37508</td>\n      <td>African American</td>\n      <td>1.0</td>\n      <td>4</td>\n      <td>8151262</td>\n      <td>...</td>\n      <td>NaN</td>\n      <td>106</td>\n      <td>59</td>\n      <td>NaN</td>\n      <td>100</td>\n      <td>76</td>\n      <td>97.7</td>\n      <td>41921</td>\n      <td>20</td>\n      <td>1</td>\n    </tr>\n    <tr>\n      <th>4</th>\n      <td>2</td>\n      <td>66615129</td>\n      <td>Thomas</td>\n      <td>Anderson</td>\n      <td>Male</td>\n      <td>23260</td>\n      <td>Hispanic</td>\n      <td>2.0</td>\n      <td>5</td>\n      <td>8773479</td>\n      <td>...</td>\n      <td>NaN</td>\n      <td>110</td>\n      <td>78</td>\n      <td>NaN</td>\n      <td>100</td>\n      <td>49</td>\n      <td>98.6</td>\n      <td>41860</td>\n      <td>14</td>\n      <td>2</td>\n    </tr>\n    <tr>\n      <th>...</th>\n      <td>...</td>\n      <td>...</td>\n      <td>...</td>\n      <td>...</td>\n      <td>...</td>\n      <td>...</td>\n      <td>...</td>\n      <td>...</td>\n      <td>...</td>\n      <td>...</td>\n      <td>...</td>\n      <td>...</td>\n      <td>...</td>\n      <td>...</td>\n      <td>...</td>\n      <td>...</td>\n      <td>...</td>\n      <td>...</td>\n      <td>...</td>\n      <td>...</td>\n      <td>...</td>\n    </tr>\n    <tr>\n      <th>2993</th>\n      <td>143</td>\n      <td>77715454</td>\n      <td>Kit</td>\n      <td>Fisto</td>\n      <td>Male</td>\n      <td>42210</td>\n      <td>Hispanic</td>\n      <td>75.0</td>\n      <td>2994</td>\n      <td>15314652</td>\n      <td>...</td>\n      <td>NaN</td>\n      <td>81</td>\n      <td>55</td>\n      <td>38.1900</td>\n      <td>100</td>\n      <td>143</td>\n      <td>98.6</td>\n      <td>43490</td>\n      <td>11</td>\n      <td>143</td>\n    </tr>\n    <tr>\n      <th>2994</th>\n      <td>143</td>\n      <td>77715454</td>\n      <td>Kit</td>\n      <td>Fisto</td>\n      <td>Male</td>\n      <td>42210</td>\n      <td>Hispanic</td>\n      <td>75.0</td>\n      <td>2995</td>\n      <td>15314652</td>\n      <td>...</td>\n      <td>NaN</td>\n      <td>81</td>\n      <td>55</td>\n      <td>38.1900</td>\n      <td>100</td>\n      <td>143</td>\n      <td>98.6</td>\n      <td>43551</td>\n      <td>11</td>\n      <td>143</td>\n    </tr>\n    <tr>\n      <th>2995</th>\n      <td>182</td>\n      <td>77714942</td>\n      <td>Dora</td>\n      <td>Explorer</td>\n      <td>Female</td>\n      <td>41906</td>\n      <td>Caucasian</td>\n      <td>75.0</td>\n      <td>2996</td>\n      <td>15319190</td>\n      <td>...</td>\n      <td>NaN</td>\n      <td>104</td>\n      <td>67</td>\n      <td>45.8850</td>\n      <td>100</td>\n      <td>99</td>\n      <td>98.6</td>\n      <td>43615</td>\n      <td>11</td>\n      <td>182</td>\n    </tr>\n    <tr>\n      <th>2996</th>\n      <td>182</td>\n      <td>77714942</td>\n      <td>Dora</td>\n      <td>Explorer</td>\n      <td>Female</td>\n      <td>41906</td>\n      <td>Caucasian</td>\n      <td>75.0</td>\n      <td>2997</td>\n      <td>15319188</td>\n      <td>...</td>\n      <td>NaN</td>\n      <td>86</td>\n      <td>56</td>\n      <td>43.6805</td>\n      <td>100</td>\n      <td>80</td>\n      <td>98.6</td>\n      <td>43477</td>\n      <td>11</td>\n      <td>182</td>\n    </tr>\n    <tr>\n      <th>2997</th>\n      <td>182</td>\n      <td>77714942</td>\n      <td>Dora</td>\n      <td>Explorer</td>\n      <td>Female</td>\n      <td>41906</td>\n      <td>Caucasian</td>\n      <td>75.0</td>\n      <td>2998</td>\n      <td>15319188</td>\n      <td>...</td>\n      <td>NaN</td>\n      <td>86</td>\n      <td>56</td>\n      <td>43.6805</td>\n      <td>100</td>\n      <td>80</td>\n      <td>98.6</td>\n      <td>43522</td>\n      <td>11</td>\n      <td>182</td>\n    </tr>\n  </tbody>\n</table>\n<p>2998 rows × 23 columns</p>\n</div>"
                    },
                    "metadata": {},
                    "execution_count": 9,
                    "output_type": "execute_result"
                }
            ],
            "execution_count": 9
        },
        {
            "cell_type": "markdown",
            "source": [
                "We need to read the columns in a different order and with different names, because otherwise we can't align the data."
            ],
            "metadata": {
                "azdata_cell_guid": "6416f2cd-405d-483a-8aa2-ee38e554f9ca"
            }
        },
        {
            "cell_type": "code",
            "source": [
                "# column_names = ['id', 'mrn' 'firstName','lastName', 'sex', 'dob', 'race', 'allergies_id', 'id2',\n",
                "#  'pan', 'weight', 'height', 'bmi', 'glucose', 'systolBloodPressure',\n",
                "#  'headCircumference', 'oxygenSaturation',\n",
                "#  'heartRate', 'temperature', 'encounterDate', 'encounterGroup_id',\n",
                "#  'patient_id','diastolicBloodPressure']\n",
                "# other_patient_encounters = pd.read_excel(other_file_path, skiprows=[0], names=column_names)\n",
                "# other_patient_encounters"
            ],
            "metadata": {
                "azdata_cell_guid": "cac72643-1cf5-48f4-8376-f57321ac2718"
            },
            "outputs": [],
            "execution_count": 10
        },
        {
            "cell_type": "markdown",
            "source": [
                "# Pivot Tables"
            ],
            "metadata": {
                "azdata_cell_guid": "5c8ad72b-7bab-49a3-9259-489deb638342"
            }
        },
        {
            "cell_type": "markdown",
            "source": [
                "Working with the data we can analyze the diastolic blood pressure using a bar chart."
            ],
            "metadata": {
                "azdata_cell_guid": "a499ed55-c651-4678-bea6-ab82637c1046"
            }
        },
        {
            "cell_type": "code",
            "source": [
                "def label_function(val):\r\n",
                "    return f'{val / 100 * len(other_patient_encounters):.0f}\\n{val:.0f}%'\r\n",
                "\r\n",
                "#pivot = other_patient_encounters.groupby(['diastolicBloodPressure']).mean()\r\n",
                "#pivot.plot(kind='bar')\r\n",
                "#other_patient_encounters.plot(kind='bar')\r\n",
                "#other_patient_encounters.groupby('gender').size().plot(kind='pie', autopct='%.2f')\r\n",
                "other_patient_encounters.groupby('sex').size().plot(kind='pie', autopct=label_function) #.value_counts().plot(kind='pie')"
            ],
            "metadata": {
                "azdata_cell_guid": "662c6131-d186-4db4-bb17-a9f1f64c9162"
            },
            "outputs": [
                {
                    "data": {
                        "text/plain": "<Figure size 432x288 with 1 Axes>",
                        "image/png": "[encoded data removed]"
                    },
                    "metadata": {},
                    "output_type": "display_data"
                },
                {
                    "data": {
                        "text/plain": "<matplotlib.axes._subplots.AxesSubplot at 0x1449a668520>"
                    },
                    "metadata": {},
                    "execution_count": 28,
                    "output_type": "execute_result"
                }
            ],
            "execution_count": 28
        },
        {
            "cell_type": "code",
            "source": [
                "a = 1\r\n",
                "if a > 2:\r\n",
                "    pivot\r\n",
                "else:\r\n",
                "    other_patient_encounters"
            ],
            "metadata": {
                "azdata_cell_guid": "9eb92de7-f1ae-4899-bdc1-0d979ecd7bc6",
                "tags": [
                    "hide_input"
                ]
            },
            "outputs": [],
            "execution_count": 19
        },
        {
            "cell_type": "code",
            "source": [
                "other_patient_encounters.plot(x='diastolicBloodPressure', y='temperature', style='o')"
            ],
            "metadata": {
                "azdata_cell_guid": "777f435a-514e-41c2-91aa-1d05cc3b18de"
            },
            "outputs": [
                {
                    "data": {
                        "text/plain": "<Figure size 432x288 with 1 Axes>",
                        "image/png": "[encoded data removed]"
                    },
                    "metadata": {
                        "needs_background": "light"
                    },
                    "output_type": "display_data"
                },
                {
                    "data": {
                        "text/plain": "<matplotlib.axes._subplots.AxesSubplot at 0x1449a3a2ee0>"
                    },
                    "metadata": {},
                    "execution_count": 29,
                    "output_type": "execute_result"
                }
            ],
            "execution_count": 29
        }
    ]
}