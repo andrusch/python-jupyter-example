{
    "metadata": {
        "kernelspec": {
            "name": "python3",
            "display_name": "Python 3"
        },
        "language_info": {
            "name": "python",
            "version": "3.6.6",
            "mimetype": "text/x-python",
            "codemirror_mode": {
                "name": "ipython",
                "version": 3
            },
            "pygments_lexer": "ipython3",
            "nbconvert_exporter": "python",
            "file_extension": ".py"
        }
    },
    "nbformat_minor": 2,
    "nbformat": 4,
    "cells": [
        {
            "cell_type": "code",
            "source": [
                "pip install pandas vega_datasets vega numpy pdvega xlrd\n",
                ""
            ],
            "metadata": {
                "azdata_cell_guid": "e854dbaf-9b44-4412-aa9a-a98647fdeb6b",
                "tags": [
                    "hide_input"
                ]
            },
            "outputs": [],
            "execution_count": null
        },
        {
            "cell_type": "code",
            "source": [
                "import pandas as pd\n",
                "import numpy as np\n",
                "#data = pd.DataFrame({'x': np.random.randn(200),\n",
                "#                     'y': np.random.randn(200)})\n",
                "\n",
                "import pdvega  \n",
                "#ffrom vega_datasets import data\n",
                "\n",
                "patients = pd.read_excel('~/Downloads/PatientData.xlsx')\n",
                "print(patients.columns.ravel())\n",
                "# for patient in patients:\n",
                "#     if patient.sex == \"Male\":\n",
                "#         print(\"hello\")\n",
                "\n",
                "\n",
                "\n",
                ""
            ],
            "metadata": {
                "azdata_cell_guid": "b04490cd-b2f6-4f54-b6df-5638d40a46f6",
                "tags": []
            },
            "outputs": [
                {
                    "traceback": [
                        "\u001b[0;31m---------------------------------------------------------------------------\u001b[0m",
                        "\u001b[0;31mAttributeError\u001b[0m                            Traceback (most recent call last)",
                        "\u001b[0;32m<ipython-input-13-5c5cb34619da>\u001b[0m in \u001b[0;36m<module>\u001b[0;34m\u001b[0m\n\u001b[1;32m      9\u001b[0m \u001b[0mpatients\u001b[0m \u001b[0;34m=\u001b[0m \u001b[0mpd\u001b[0m\u001b[0;34m.\u001b[0m\u001b[0mread_excel\u001b[0m\u001b[0;34m(\u001b[0m\u001b[0;34m'~/Downloads/PatientData.xlsx'\u001b[0m\u001b[0;34m)\u001b[0m\u001b[0;34m\u001b[0m\u001b[0m\n\u001b[1;32m     10\u001b[0m \u001b[0;32mfor\u001b[0m \u001b[0mpatient\u001b[0m \u001b[0;32min\u001b[0m \u001b[0mpatients\u001b[0m\u001b[0;34m:\u001b[0m\u001b[0;34m\u001b[0m\u001b[0m\n\u001b[0;32m---> 11\u001b[0;31m     \u001b[0;32mif\u001b[0m \u001b[0mpatient\u001b[0m\u001b[0;34m.\u001b[0m\u001b[0msex\u001b[0m \u001b[0;34m==\u001b[0m \u001b[0;34m\"Male\"\u001b[0m\u001b[0;34m:\u001b[0m\u001b[0;34m\u001b[0m\u001b[0m\n\u001b[0m\u001b[1;32m     12\u001b[0m         \u001b[0mprint\u001b[0m\u001b[0;34m(\u001b[0m\u001b[0;34m\"hello\"\u001b[0m\u001b[0;34m)\u001b[0m\u001b[0;34m\u001b[0m\u001b[0m\n\u001b[1;32m     13\u001b[0m \u001b[0;34m\u001b[0m\u001b[0m\n",
                        "\u001b[0;31mAttributeError\u001b[0m: 'str' object has no attribute 'sex'"
                    ],
                    "ename": "AttributeError",
                    "evalue": "'str' object has no attribute 'sex'",
                    "output_type": "error"
                }
            ],
            "execution_count": 13
        },
        {
            "cell_type": "code",
            "source": [
                ""
            ],
            "metadata": {
                "azdata_cell_guid": "ea951ef1-8237-46b9-9f5e-b1fcf9ac5ccd"
            },
            "outputs": [
                {
                    "output_type": "stream",
                    "name": "stdout",
                    "text": "Requirement already satisfied: vega_datasets in ./azuredatastudio-python/0.0.1/lib/python3.6/site-packages (0.8.0)\r\nRequirement already satisfied: pandas in ./azuredatastudio-python/0.0.1/lib/python3.6/site-packages (from vega_datasets) (1.0.3)\r\n"
                },
                {
                    "output_type": "stream",
                    "name": "stdout",
                    "text": "Requirement already satisfied: numpy>=1.13.3 in ./azuredatastudio-python/0.0.1/lib/python3.6/site-packages (from pandas->vega_datasets) (1.18.3)\r\nRequirement already satisfied: python-dateutil>=2.6.1 in ./azuredatastudio-python/0.0.1/lib/python3.6/site-packages (from pandas->vega_datasets) (2.8.1)\r\nRequirement already satisfied: pytz>=2017.2 in ./azuredatastudio-python/0.0.1/lib/python3.6/site-packages (from pandas->vega_datasets) (2019.3)\r\nRequirement already satisfied: six>=1.5 in ./azuredatastudio-python/0.0.1/lib/python3.6/site-packages (from python-dateutil>=2.6.1->pandas->vega_datasets) (1.14.0)\r\n"
                },
                {
                    "output_type": "stream",
                    "name": "stdout",
                    "text": "\u001b[33mWARNING: You are using pip version 20.0.2; however, version 20.2.4 is available.\r\nYou should consider upgrading via the '/Users/andrusch/azuredatastudio-python/0.0.1/bin/python3 -m pip install --upgrade pip' command.\u001b[0m\r\n"
                },
                {
                    "output_type": "stream",
                    "name": "stdout",
                    "text": "Note: you may need to restart the kernel to use updated packages.\n"
                }
            ],
            "execution_count": 49
        }
    ]
}