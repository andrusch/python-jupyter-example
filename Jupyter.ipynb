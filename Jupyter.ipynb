{
    "metadata": {
        "kernelspec": {
            "name": "python3",
            "display_name": "Python 3"
        },
        "language_info": {
            "name": "python",
            "version": "3.8.3-final",
            "mimetype": "text/x-python",
            "codemirror_mode": {
                "name": "ipython",
                "version": 3
            },
            "pygments_lexer": "ipython3",
            "nbconvert_exporter": "python",
            "file_extension": ".py"
        }
    },
    "nbformat_minor": 2,
    "nbformat": 4,
    "cells": [
        {
            "cell_type": "code",
            "source": [
                "pip install pandas vega_datasets vega numpy pdvega xlrd\n",
                ""
            ],
            "metadata": {
                "azdata_cell_guid": "e854dbaf-9b44-4412-aa9a-a98647fdeb6b",
                "tags": [
                    "hide_input"
                ]
            },
            "outputs": [
                {
                    "output_type": "stream",
                    "name": "stdout",
                    "text": [
                        "Requirement already satisfied: pandas in c:\\users\\charl\\anaconda3\\lib\\site-packages (1.0.5)\n",
                        "Requirement already satisfied: vega_datasets in c:\\users\\charl\\anaconda3\\lib\\site-packages (0.8.0)\n",
                        "Requirement already satisfied: vega in c:\\users\\charl\\anaconda3\\lib\\site-packages (3.4.0)\n",
                        "Requirement already satisfied: numpy in c:\\users\\charl\\anaconda3\\lib\\site-packages (1.18.5)\n",
                        "Requirement already satisfied: pdvega in c:\\users\\charl\\anaconda3\\lib\\site-packages (0.1)\n",
                        "Requirement already satisfied: xlrd in c:\\users\\charl\\anaconda3\\lib\\site-packages (1.2.0)\n",
                        "Requirement already satisfied: python-dateutil>=2.6.1 in c:\\users\\charl\\anaconda3\\lib\\site-packages (from pandas) (2.8.1)\n",
                        "Requirement already satisfied: pytz>=2017.2 in c:\\users\\charl\\anaconda3\\lib\\site-packages (from pandas) (2020.1)\n",
                        "Requirement already satisfied: jupyter<2.0.0,>=1.0.0 in c:\\users\\charl\\anaconda3\\lib\\site-packages (from vega) (1.0.0)\n",
                        "Requirement already satisfied: vega3 in c:\\users\\charl\\anaconda3\\lib\\site-packages (from pdvega) (0.13.0)\n",
                        "Requirement already satisfied: ipython in c:\\users\\charl\\anaconda3\\lib\\site-packages (from pdvega) (7.16.1)\n",
                        "Requirement already satisfied: six>=1.5 in c:\\users\\charl\\appdata\\roaming\\python\\python38\\site-packages (from python-dateutil>=2.6.1->pandas) (1.15.0)\n",
                        "Requirement already satisfied: nbconvert in c:\\users\\charl\\anaconda3\\lib\\site-packages (from jupyter<2.0.0,>=1.0.0->vega) (5.6.1)\n",
                        "Requirement already satisfied: notebook in c:\\users\\charl\\anaconda3\\lib\\site-packages (from jupyter<2.0.0,>=1.0.0->vega) (6.0.3)\n",
                        "Requirement already satisfied: jupyter-console in c:\\users\\charl\\anaconda3\\lib\\site-packages (from jupyter<2.0.0,>=1.0.0->vega) (6.1.0)\n",
                        "Requirement already satisfied: ipywidgets in c:\\users\\charl\\anaconda3\\lib\\site-packages (from jupyter<2.0.0,>=1.0.0->vega) (7.5.1)\n",
                        "Requirement already satisfied: qtconsole in c:\\users\\charl\\anaconda3\\lib\\site-packages (from jupyter<2.0.0,>=1.0.0->vega) (4.7.5)\n",
                        "Requirement already satisfied: ipykernel in c:\\users\\charl\\anaconda3\\lib\\site-packages (from jupyter<2.0.0,>=1.0.0->vega) (5.3.2)\n",
                        "Requirement already satisfied: pickleshare in c:\\users\\charl\\anaconda3\\lib\\site-packages (from ipython->pdvega) (0.7.5)\n",
                        "Requirement already satisfied: colorama; sys_platform == \"win32\" in c:\\users\\charl\\appdata\\roaming\\python\\python38\\site-packages (from ipython->pdvega) (0.4.3)Note: you may need to restart the kernel to use updated packages.\n",
                        "Requirement already satisfied: decorator in c:\\users\\charl\\anaconda3\\lib\\site-packages (from ipython->pdvega) (4.4.2)\n",
                        "Requirement already satisfied: traitlets>=4.2 in c:\\users\\charl\\anaconda3\\lib\\site-packages (from ipython->pdvega) (4.3.3)\n",
                        "Requirement already satisfied: jedi>=0.10 in c:\\users\\charl\\anaconda3\\lib\\site-packages (from ipython->pdvega) (0.17.1)\n",
                        "\n",
                        "Requirement already satisfied: pygments in c:\\users\\charl\\anaconda3\\lib\\site-packages (from ipython->pdvega) (2.6.1)\n",
                        "Requirement already satisfied: setuptools>=18.5 in c:\\users\\charl\\anaconda3\\lib\\site-packages (from ipython->pdvega) (49.2.0.post20200714)\n",
                        "Requirement already satisfied: prompt-toolkit!=3.0.0,!=3.0.1,<3.1.0,>=2.0.0 in c:\\users\\charl\\anaconda3\\lib\\site-packages (from ipython->pdvega) (3.0.5)\n",
                        "Requirement already satisfied: backcall in c:\\users\\charl\\anaconda3\\lib\\site-packages (from ipython->pdvega) (0.2.0)\n",
                        "Requirement already satisfied: defusedxml in c:\\users\\charl\\anaconda3\\lib\\site-packages (from nbconvert->jupyter<2.0.0,>=1.0.0->vega) (0.6.0)\n",
                        "Requirement already satisfied: mistune<2,>=0.8.1 in c:\\users\\charl\\anaconda3\\lib\\site-packages (from nbconvert->jupyter<2.0.0,>=1.0.0->vega) (0.8.4)\n",
                        "Requirement already satisfied: jinja2>=2.4 in c:\\users\\charl\\anaconda3\\lib\\site-packages (from nbconvert->jupyter<2.0.0,>=1.0.0->vega) (2.11.2)\n",
                        "Requirement already satisfied: pandocfilters>=1.4.1 in c:\\users\\charl\\anaconda3\\lib\\site-packages (from nbconvert->jupyter<2.0.0,>=1.0.0->vega) (1.4.2)\n",
                        "Requirement already satisfied: jupyter-core in c:\\users\\charl\\anaconda3\\lib\\site-packages (from nbconvert->jupyter<2.0.0,>=1.0.0->vega) (4.6.3)\n",
                        "Requirement already satisfied: nbformat>=4.4 in c:\\users\\charl\\anaconda3\\lib\\site-packages (from nbconvert->jupyter<2.0.0,>=1.0.0->vega) (5.0.7)\n",
                        "Requirement already satisfied: bleach in c:\\users\\charl\\anaconda3\\lib\\site-packages (from nbconvert->jupyter<2.0.0,>=1.0.0->vega) (3.1.5)\n",
                        "Requirement already satisfied: entrypoints>=0.2.2 in c:\\users\\charl\\anaconda3\\lib\\site-packages (from nbconvert->jupyter<2.0.0,>=1.0.0->vega) (0.3)\n",
                        "Requirement already satisfied: testpath in c:\\users\\charl\\anaconda3\\lib\\site-packages (from nbconvert->jupyter<2.0.0,>=1.0.0->vega) (0.4.4)\n",
                        "Requirement already satisfied: ipython-genutils in c:\\users\\charl\\anaconda3\\lib\\site-packages (from notebook->jupyter<2.0.0,>=1.0.0->vega) (0.2.0)\n",
                        "Requirement already satisfied: Send2Trash in c:\\users\\charl\\anaconda3\\lib\\site-packages (from notebook->jupyter<2.0.0,>=1.0.0->vega) (1.5.0)\n",
                        "Requirement already satisfied: prometheus-client in c:\\users\\charl\\anaconda3\\lib\\site-packages (from notebook->jupyter<2.0.0,>=1.0.0->vega) (0.8.0)\n",
                        "Requirement already satisfied: jupyter-client>=5.3.4 in c:\\users\\charl\\anaconda3\\lib\\site-packages (from notebook->jupyter<2.0.0,>=1.0.0->vega) (6.1.6)\n",
                        "Requirement already satisfied: terminado>=0.8.1 in c:\\users\\charl\\anaconda3\\lib\\site-packages (from notebook->jupyter<2.0.0,>=1.0.0->vega) (0.8.3)\n",
                        "Requirement already satisfied: tornado>=5.0 in c:\\users\\charl\\anaconda3\\lib\\site-packages (from notebook->jupyter<2.0.0,>=1.0.0->vega) (6.0.4)\n",
                        "Requirement already satisfied: pyzmq>=17 in c:\\users\\charl\\anaconda3\\lib\\site-packages (from notebook->jupyter<2.0.0,>=1.0.0->vega) (19.0.1)\n",
                        "Requirement already satisfied: widgetsnbextension~=3.5.0 in c:\\users\\charl\\anaconda3\\lib\\site-packages (from ipywidgets->jupyter<2.0.0,>=1.0.0->vega) (3.5.1)\n",
                        "Requirement already satisfied: qtpy in c:\\users\\charl\\anaconda3\\lib\\site-packages (from qtconsole->jupyter<2.0.0,>=1.0.0->vega) (1.9.0)\n",
                        "Requirement already satisfied: parso<0.8.0,>=0.7.0 in c:\\users\\charl\\anaconda3\\lib\\site-packages (from jedi>=0.10->ipython->pdvega) (0.7.0)\n",
                        "Requirement already satisfied: wcwidth in c:\\users\\charl\\anaconda3\\lib\\site-packages (from prompt-toolkit!=3.0.0,!=3.0.1,<3.1.0,>=2.0.0->ipython->pdvega) (0.2.5)\n",
                        "Requirement already satisfied: MarkupSafe>=0.23 in c:\\users\\charl\\anaconda3\\lib\\site-packages (from jinja2>=2.4->nbconvert->jupyter<2.0.0,>=1.0.0->vega) (1.1.1)\n",
                        "Requirement already satisfied: pywin32>=1.0; sys_platform == \"win32\" in c:\\users\\charl\\anaconda3\\lib\\site-packages (from jupyter-core->nbconvert->jupyter<2.0.0,>=1.0.0->vega) (227)\n",
                        "Requirement already satisfied: jsonschema!=2.5.0,>=2.4 in c:\\users\\charl\\anaconda3\\lib\\site-packages (from nbformat>=4.4->nbconvert->jupyter<2.0.0,>=1.0.0->vega) (3.2.0)\n",
                        "Requirement already satisfied: webencodings in c:\\users\\charl\\anaconda3\\lib\\site-packages (from bleach->nbconvert->jupyter<2.0.0,>=1.0.0->vega) (0.5.1)\n",
                        "Requirement already satisfied: packaging in c:\\users\\charl\\anaconda3\\lib\\site-packages (from bleach->nbconvert->jupyter<2.0.0,>=1.0.0->vega) (20.4)\n",
                        "Requirement already satisfied: pyrsistent>=0.14.0 in c:\\users\\charl\\anaconda3\\lib\\site-packages (from jsonschema!=2.5.0,>=2.4->nbformat>=4.4->nbconvert->jupyter<2.0.0,>=1.0.0->vega) (0.16.0)\n",
                        "Requirement already satisfied: attrs>=17.4.0 in c:\\users\\charl\\anaconda3\\lib\\site-packages (from jsonschema!=2.5.0,>=2.4->nbformat>=4.4->nbconvert->jupyter<2.0.0,>=1.0.0->vega) (19.3.0)\n",
                        "Requirement already satisfied: pyparsing>=2.0.2 in c:\\users\\charl\\anaconda3\\lib\\site-packages (from packaging->bleach->nbconvert->jupyter<2.0.0,>=1.0.0->vega) (2.4.7)\n"
                    ]
                }
            ],
            "execution_count": 1
        },
        {
            "cell_type": "code",
            "source": [
                "import pandas as pd\n",
                "import numpy as np\n",
                "import os\n",
                "file_path = os.path.join(os.getcwd(), \"data\", \"PatientEncounters.xlsx\")\n",
                "#data = pd.DataFrame({'x': np.random.randn(200),\n",
                "#                     'y': np.random.randn(200)})\n",
                "\n",
                "#import pdvega  \n",
                "#ffrom vega_datasets import data\n",
                "\n",
                "patients = pd.read_excel(file_path)\n",
                "print(patients.columns.ravel())\n",
                "\n",
                "\n",
                "\n",
                "\n"
            ],
            "metadata": {
                "azdata_cell_guid": "b04490cd-b2f6-4f54-b6df-5638d40a46f6",
                "tags": []
            },
            "outputs": [
                {
                    "output_type": "stream",
                    "name": "stdout",
                    "text": [
                        "hello\n",
                        "['id' 'mrn' 'firstName' 'lastName' 'sex' 'dob' 'race' 'allergies_id' 'id2'\n",
                        " 'pan' 'weight' 'height' 'bmi' 'glucose' 'systolBloodPressure'\n",
                        " 'diastolicBloodPressure' 'headCircumference' 'oxygenSaturation'\n",
                        " 'heartRate' 'temperature' 'encounterDate' 'encounterGroup_id'\n",
                        " 'patient_id']\n"
                    ]
                }
            ],
            "execution_count": 16
        },
        {
            "cell_type": "code",
            "source": [
                ""
            ],
            "metadata": {
                "azdata_cell_guid": "ea951ef1-8237-46b9-9f5e-b1fcf9ac5ccd"
            },
            "outputs": [
                {
                    "output_type": "stream",
                    "name": "stdout",
                    "text": "Requirement already satisfied: vega_datasets in ./azuredatastudio-python/0.0.1/lib/python3.6/site-packages (0.8.0)\r\nRequirement already satisfied: pandas in ./azuredatastudio-python/0.0.1/lib/python3.6/site-packages (from vega_datasets) (1.0.3)\r\n"
                },
                {
                    "output_type": "stream",
                    "name": "stdout",
                    "text": "Requirement already satisfied: numpy>=1.13.3 in ./azuredatastudio-python/0.0.1/lib/python3.6/site-packages (from pandas->vega_datasets) (1.18.3)\r\nRequirement already satisfied: python-dateutil>=2.6.1 in ./azuredatastudio-python/0.0.1/lib/python3.6/site-packages (from pandas->vega_datasets) (2.8.1)\r\nRequirement already satisfied: pytz>=2017.2 in ./azuredatastudio-python/0.0.1/lib/python3.6/site-packages (from pandas->vega_datasets) (2019.3)\r\nRequirement already satisfied: six>=1.5 in ./azuredatastudio-python/0.0.1/lib/python3.6/site-packages (from python-dateutil>=2.6.1->pandas->vega_datasets) (1.14.0)\r\n"
                },
                {
                    "output_type": "stream",
                    "name": "stdout",
                    "text": "\u001b[33mWARNING: You are using pip version 20.0.2; however, version 20.2.4 is available.\r\nYou should consider upgrading via the '/Users/andrusch/azuredatastudio-python/0.0.1/bin/python3 -m pip install --upgrade pip' command.\u001b[0m\r\n"
                },
                {
                    "output_type": "stream",
                    "name": "stdout",
                    "text": "Note: you may need to restart the kernel to use updated packages.\n"
                }
            ],
            "execution_count": 49
        }
    ]
}